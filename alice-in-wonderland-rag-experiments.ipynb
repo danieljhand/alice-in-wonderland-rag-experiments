{
 "cells": [
  {
   "cell_type": "markdown",
   "id": "3c0ca9d5-31a4-4edf-aa51-b80c2b5183c5",
   "metadata": {},
   "source": [
    "![Alice in Wonderland](images/alice-in-wonderland.png)"
   ]
  },
  {
   "cell_type": "markdown",
   "id": "83db6e75-ccc8-4fb6-857f-3951ee38adc6",
   "metadata": {},
   "source": [
    "## Introduction\n",
    "This notebook contains exploratory notes on objectively measuring the performance of Retrieval Augmented Generation (RAG) using the RAG Assessment [ragas](https://docs.ragas.io/en/stable/index.html) python module. We'll use the classic children's book \"Alice's Adventures in Wonderland\" as the source of context for our experiments.\n",
    "\n",
    "## Motivation\n",
    "RAG is one of the most popular methods for enriching a Large Language Model (LLM) with context about a specific domain. While there's an incredible amount of knowledge across a wide array of domains embedded with leading models such as llama3, chatGPT and Gemini, they have no exposure to private data sets or data created after they were pre-trained. RAG is one efficient way to address this. Fine-tuning is another approach.\n",
    "\n",
    "## Evaluation\n",
    "We will focus on measuring the overall performance of the RAG pipeline in this notebook and restrict our experimentation to optimising the embedding stage. This is a reasonable starting place, however future improvements may come from assessing the performance of individual stages of the RAG and optimising them appropriately. This may include optimising embedding and search, preparing the context as a result of potentially multiple queries against the vector store (in the case of a dense embedding) and of course the LLM used to generate the answers.\n",
    "\n",
    "## Dataset\n",
    "The most capable LLMs have been training on a huge corpus of data and can answer questions on a staggeringly broad range of subjects. If we were to ask llama3 a question about \"Alice's Adventures in Wonderland\" it will almost certainly do an excellent job of providing an answer. This is because the text is accessible at the [Gutenberg Project](https://www.gutenberg.org/ebooks/11) and is a favourite subject of mathematicians and logicians so there will have been plenty of examples during pre-training. We'll prevent the LLM from using embedded knowledge about the book by providing a system prompt. This may not guarantee prior knowledge will be ignored but for the purposes of our experiment, it should be sufficient.\n",
    "\n",
    "## Models\n",
    "Alice's Adventure's in Wonderland is approximately 27,000 words long. At the time of writing, Google's Gemini 1.5 pro has a maximum context window of 1 million tokens. If we combined this with the top performing embedding model [voyage-large-2-instruct](https://docs.voyageai.com/docs/embeddings) with a maximum context length of 16,000 tokens we could fit the entire book into the LLMs working memory with only a searches. This brute force approach may provide good results but at a cost of resources used and latency. There's also a concern that the embedding vector may be less meaningful as the size of the text encoding (chuck_size) increases.\n",
    "\n",
    "For the purpose of experimentation we'll use a more modest starting combination of embedding model and transformer model.\n",
    "\n",
    "- Embedding model: [mxbai-embed-large-v1](https://huggingface.co/mixedbread-ai/mxbai-embed-large-v1). [Massive Text Embedding Benchmark (MTEB) Leaderboard](https://huggingface.co/spaces/mteb/leaderboard) rank #16.\n",
    "- Decoder model: [Llama3-8b-Instruct](https://ollama.com/library/llama3:instruct) llama3 with 4-bit quantisation and a 2k context window.\n",
    "\n",
    "\n",
    "We may explore tweaking the context window size later, but for now, let's get some baseline data."
   ]
  },
  {
   "cell_type": "markdown",
   "id": "4b7e9670-3313-4bb2-8c5a-26a77774378b",
   "metadata": {},
   "source": [
    "Let's start by downloading the source text and remove all text that's not part of the story. In particular, there's a lengthy copyright and legal notice at the end of the document. If we don't remove it, it will get embedded into the vector store and potentially be used to create questions and answers about the book. This is clearly not what we want, so it needs to be removed. \n",
    "\n",
    "Note: We'll be using `wget`, `tail`, `head` and `wc` to explore the source text. If you are on a mac, you'll need to install wget with `brew` or some other package manager."
   ]
  },
  {
   "cell_type": "code",
   "execution_count": null,
   "id": "a503d9d6-e2f8-4627-a0c8-b87c28e66963",
   "metadata": {},
   "outputs": [],
   "source": [
    "!wget https://www.gutenberg.org/ebooks/11.txt.utf-8 -O ./data/alice.txt"
   ]
  },
  {
   "cell_type": "code",
   "execution_count": 1,
   "id": "8b633ed4-afe5-4e7d-b0c3-8248d492e95d",
   "metadata": {},
   "outputs": [],
   "source": [
    "!tail -n +29 ./data/alice.txt  | head -n -353 > ./data/alice-modified.txt "
   ]
  },
  {
   "cell_type": "code",
   "execution_count": 2,
   "id": "d9299db0-f203-4a46-b2c9-df0b892a4ea6",
   "metadata": {},
   "outputs": [
    {
     "name": "stdout",
     "output_type": "stream",
     "text": [
      "Alice’s Adventures in Wonderland\n",
      "\n",
      "by Lewis Carroll\n",
      "\n",
      "THE MILLENNIUM FULCRUM EDITION 3.0\n",
      "\n",
      "Contents\n",
      "\n",
      " CHAPTER I.     Down the Rabbit-Hole\n",
      " CHAPTER II.    The Pool of Tears\n"
     ]
    }
   ],
   "source": [
    "!head -n 10 ./data/alice-modified.txt"
   ]
  },
  {
   "cell_type": "code",
   "execution_count": 3,
   "id": "b7e95a08-d85f-47e3-8c93-d9db3ab6d734",
   "metadata": {},
   "outputs": [
    {
     "name": "stdout",
     "output_type": "stream",
     "text": [
      "would, in the after-time, be herself a grown woman; and how she would\n",
      "keep, through all her riper years, the simple and loving heart of her\n",
      "childhood: and how she would gather about her other little children,\n",
      "and make _their_ eyes bright and eager with many a strange tale,\n",
      "perhaps even with the dream of Wonderland of long ago: and how she\n",
      "would feel with all their simple sorrows, and find a pleasure in all\n",
      "their simple joys, remembering her own child-life, and the happy summer\n",
      "days.\n",
      "\n",
      "THE END\n"
     ]
    }
   ],
   "source": [
    "!tail -n 10 ./data/alice-modified.txt"
   ]
  },
  {
   "cell_type": "code",
   "execution_count": 4,
   "id": "a46d4a76-76b4-4c81-966c-dd76103b4e8d",
   "metadata": {},
   "outputs": [
    {
     "name": "stdout",
     "output_type": "stream",
     "text": [
      "26524 ./data/alice-modified.txt\n"
     ]
    }
   ],
   "source": [
    "!wc -w ./data/alice-modified.txt"
   ]
  },
  {
   "cell_type": "markdown",
   "id": "a5d9ae50-5e4c-48c2-b325-d4f339788ce5",
   "metadata": {},
   "source": [
    "The start and end sections of the modified text looks correct. As we expected, the text has just under 27,000 words.\n",
    "\n",
    "Let's now open the document and split it up into small chunks. We'll use `langchain_text_splitters.RecursiveCharacterTextSplitter`so let's install `langchain_community`."
   ]
  },
  {
   "cell_type": "code",
   "execution_count": 1,
   "id": "7a27cfa4-c373-4545-8ea9-dcb73958837b",
   "metadata": {},
   "outputs": [],
   "source": [
    "pip install langchain_community"
   ]
  },
  {
   "cell_type": "code",
   "execution_count": 1,
   "id": "b76a5b87-4b26-4745-af27-4407f0fc44ba",
   "metadata": {},
   "outputs": [],
   "source": [
    "with open(\"./data/alice-modified.txt\") as f:\n",
    "    alice_in_wonderland = f.read()"
   ]
  },
  {
   "cell_type": "code",
   "execution_count": 2,
   "id": "9bc5b6b3-08ac-4e1d-b100-1e9ff52509da",
   "metadata": {},
   "outputs": [],
   "source": [
    "from langchain_text_splitters import RecursiveCharacterTextSplitter"
   ]
  },
  {
   "cell_type": "markdown",
   "id": "fef85caa-e2ec-4bac-bf11-bea9a7e3b103",
   "metadata": {},
   "source": [
    "[RecursiveCharacterTextSplitter](https://python.langchain.com/v0.1/docs/modules/data_connection/document_transformers/recursive_text_splitter/) breaks up text into chunks up to a `chuck_size` limit while trying to keep all paragraphs (and then sentences, and then words) together as long as possible, as those would generically seem to be the strongest semantically related pieces of text.\n",
    "\n",
    "Note: `chunk_size` is the number of characters not words or tokens."
   ]
  },
  {
   "cell_type": "code",
   "execution_count": 3,
   "id": "6e3555c6-64cb-407f-8617-9d8132efc0d5",
   "metadata": {},
   "outputs": [],
   "source": [
    "text_splitter = RecursiveCharacterTextSplitter(\n",
    "    chunk_size=512,\n",
    "    chunk_overlap=128,\n",
    "    length_function=len,\n",
    "    is_separator_regex=False\n",
    ")"
   ]
  },
  {
   "cell_type": "markdown",
   "id": "c099ba22-ae70-440a-959d-d9ca88a954bc",
   "metadata": {},
   "source": [
    "We'll explore using different values for `chunk_size` later so it will be helpful to include its value as metadata in the vector store. We can then filter searches based on `chunk_size`. More on this later."
   ]
  },
  {
   "cell_type": "code",
   "execution_count": 4,
   "id": "0d7402fd-a9ef-4c4b-bbdb-3399452a94b3",
   "metadata": {},
   "outputs": [],
   "source": [
    "chunk_size = 512\n",
    "chunk_overlap = 128\n",
    "\n",
    "alice = text_splitter.create_documents([alice_in_wonderland], metadatas=[{\"filename\": \"alice-modified.txt\",\n",
    "                                                                         \"chunk_size\": chunk_size,\n",
    "                                                                         \"chunk_overlap\": chunk_overlap}])"
   ]
  },
  {
   "cell_type": "markdown",
   "id": "8001efb2-985a-4906-8657-bde7698a58fb",
   "metadata": {},
   "source": [
    "this returns a list of `langchain_core.documents.base.Document`. Let's take a look at the first one to familarise ourselves with the structure."
   ]
  },
  {
   "cell_type": "code",
   "execution_count": 5,
   "id": "8d2b343b-abe9-4dbf-99cc-1d3f51ebd0b6",
   "metadata": {},
   "outputs": [
    {
     "data": {
      "text/plain": [
       "{'page_content': '“You ought to be ashamed of yourself,” said Alice, “a great girl like\\nyou,” (she might well say this), “to go on crying in this way! Stop\\nthis moment, I tell you!” But she went on all the same, shedding\\ngallons of tears, until there was a large pool all round her, about\\nfour inches deep and reaching half down the hall.',\n",
       " 'metadata': {'filename': 'alice-modified.txt',\n",
       "  'chunk_size': 512,\n",
       "  'chunk_overlap': 128},\n",
       " 'type': 'Document'}"
      ]
     },
     "execution_count": 5,
     "metadata": {},
     "output_type": "execute_result"
    }
   ],
   "source": [
    "alice[42].dict()"
   ]
  },
  {
   "cell_type": "markdown",
   "id": "330f5ee8-ca71-45f3-a008-1b468c74f909",
   "metadata": {},
   "source": [
    "we have an element for `page_content`, one for `meta_data` and one for `type`. Let's get a feel for how the text is broken down into chunks. In particular, let's see the effects of `chunk_overlap`."
   ]
  },
  {
   "cell_type": "code",
   "execution_count": 6,
   "id": "89ba36ed-49e2-434f-a078-fd27876ca3a8",
   "metadata": {},
   "outputs": [
    {
     "name": "stdout",
     "output_type": "stream",
     "text": [
      "Poor Alice! It was as much as she could do, lying down on one side, to\n",
      "look through into the garden with one eye; but to get through was more\n",
      "hopeless than ever: she sat down and began to cry again.\n",
      "\n",
      "“You ought to be ashamed of yourself,” said Alice, “a great girl like\n",
      "you,” (she might well say this), “to go on crying in this way! Stop\n",
      "this moment, I tell you!” But she went on all the same, shedding\n",
      "gallons of tears, until there was a large pool all round her, about\n",
      "four inches deep and reaching half down the hall.\n",
      "\n",
      "After a time she heard a little pattering of feet in the distance, and\n",
      "she hastily dried her eyes to see what was coming. It was the White\n",
      "Rabbit returning, splendidly dressed, with a pair of white kid gloves\n",
      "in one hand and a large fan in the other: he came trotting along in a\n",
      "great hurry, muttering to himself as he came, “Oh! the Duchess, the\n",
      "Duchess! Oh! won’t she be savage if I’ve kept her waiting!” Alice felt\n",
      "so desperate that she was ready to ask help of any one; so, when the\n",
      "\n"
     ]
    }
   ],
   "source": [
    "for i in range(41,44):\n",
    "    print(f\"{alice[i].dict()['page_content']}\\n\")"
   ]
  },
  {
   "cell_type": "markdown",
   "id": "a893263a-bbd8-4ca7-be20-df028af4fa89",
   "metadata": {},
   "source": [
    "Each chuck captures a few sentences of text or paragraph as we expect. This should provide a reasonable starting place to start our experimentation. However, because the `chuck_size` is quite small, even with an `chunk_overlap` equal to approximately 25% of `chunk_size`, there's no overlapping text in this small sample. This is probably due to `RecursiveCharacterTextSplitter` preferring to split on sentences and paragraphs.\n",
    "\n",
    "Let's look at the average size (in words) produced by `RecursiveCharacterTextSplitter`."
   ]
  },
  {
   "cell_type": "code",
   "execution_count": 11,
   "id": "ccd7f98d-5a56-4f6f-b67c-f295a1f1e9df",
   "metadata": {},
   "outputs": [
    {
     "name": "stdout",
     "output_type": "stream",
     "text": [
      "The average number of words per chunk is: 71\n"
     ]
    }
   ],
   "source": [
    "number_of_words = 0\n",
    "for chunk in range(len(alice)):\n",
    "    number_of_words += len(dict(alice[chunk])[\"page_content\"].split())\n",
    "print(f\"The average number of words per chunk is: {number_of_words/len(alice):.0f}\")"
   ]
  },
  {
   "cell_type": "markdown",
   "id": "682c2b12-cbf8-47aa-af36-f93438f47c12",
   "metadata": {},
   "source": [
    "The `mxbai-embed-large` embedding model has a [recommended](https://www.mixedbread.ai/docs/embeddings/mxbai-embed-large-v1#model-description) input sequence length of up to 512 tokens and produces an embedding vector of 1024 dimensions. The sequence length of 512 tokens will set an upper bound on the length of segments we can embed, but with a starting average chuck length of 71 words, there's plenty of opportunity to increase the chunk length during testing without hitting this upper limit.\n",
    "\n",
    "We'll use AstraDB for the vectorStore. DataStax has made it really easy to get started with this serverless DBaaS based on Apache Cassandra. Just following the [Quick Start](https://docs.datastax.com/en/astra-db-serverless/get-started/quickstart.html) guide and you'll have a Database, Collection and API key in a few minutes. When creating the collection, set the number of dimensions to 1,024 and specify a similarity measure of cosine (the angle between the vectors being compared). The dimensionality is determined by the embedding model we've chosen.\n",
    "\n",
    "Create a .env file with values for each of the following variables:\n",
    "\n",
    "- ASTRA_DB_APPLICATION_TOKEN\n",
    "- ASTRA_DB_API_ENDPOINT\n",
    "- ASTRA_DB_COLLECTION\n",
    "\n",
    "We'll also need to install AstraDB python modules. I used `ragstack-ai` but `astrapy` should also be sufficient if you only want to only use AstraDB."
   ]
  },
  {
   "cell_type": "code",
   "execution_count": null,
   "id": "f54723ea-60c0-42b9-8e3a-04f729ecbb61",
   "metadata": {},
   "outputs": [],
   "source": [
    "pip install ragstack-ai"
   ]
  },
  {
   "cell_type": "code",
   "execution_count": 7,
   "id": "98cbbd59-cdab-4e63-8f11-238c32c40227",
   "metadata": {},
   "outputs": [
    {
     "data": {
      "text/plain": [
       "True"
      ]
     },
     "execution_count": 7,
     "metadata": {},
     "output_type": "execute_result"
    }
   ],
   "source": [
    "import os\n",
    "from dotenv import load_dotenv\n",
    "from langchain_astradb import AstraDBVectorStore\n",
    "\n",
    "load_dotenv()"
   ]
  },
  {
   "cell_type": "markdown",
   "id": "e1565f90-b1aa-4f14-8112-cbdaeb52bec1",
   "metadata": {},
   "source": [
    "We'll be using the `mxbai-embed-large` embedding model hosted using ollama via the URL `http://192.168.1.111:11434`. We want greater consistency and determinism in both the embedding model and later the encodermodel, hence the low value for temperature."
   ]
  },
  {
   "cell_type": "code",
   "execution_count": 8,
   "id": "f62e64a6-6989-46cf-9255-1aef15f0bbd8",
   "metadata": {},
   "outputs": [],
   "source": [
    "from langchain.llms import Ollama\n",
    "from langchain_community.embeddings import OllamaEmbeddings\n",
    "\n",
    "embedding_model = OllamaEmbeddings(model=\"mxbai-embed-large\", base_url=\"http://192.168.1.111:11434\", temperature=0, top_p=0.05, top_k=10)"
   ]
  },
  {
   "cell_type": "markdown",
   "id": "4c307425-a975-4378-8364-72f32343cd6c",
   "metadata": {},
   "source": [
    "We are just about ready to create the first set of vector embeddings in the vector store. Let's create a connection."
   ]
  },
  {
   "cell_type": "code",
   "execution_count": 9,
   "id": "ec88b88e-8549-4203-98f7-7866da6521e2",
   "metadata": {},
   "outputs": [
    {
     "name": "stderr",
     "output_type": "stream",
     "text": [
      "/home/djh/Development/python/alice-in-wonderland-rag-experiments/venv/lib/python3.10/site-packages/langchain_astradb/utils/astradb.py:196: UserWarning: Astra DB collection 'alice_in_wonderland' is detected as having indexing turned on for all fields (either created manually or by older versions of this plugin). This implies stricter limitations on the amount of text each string in a document can store. Consider reindexing anew on a fresh collection to be able to store longer texts.\n",
      "  if not self._validate_indexing_policy(\n"
     ]
    }
   ],
   "source": [
    "vstore = AstraDBVectorStore(\n",
    "    embedding=embedding_model,\n",
    "    collection_name=os.environ[\"ASTRA_DB_COLLECTION\"],\n",
    "    token=os.environ[\"ASTRA_DB_APPLICATION_TOKEN\"],\n",
    "    api_endpoint=os.environ[\"ASTRA_DB_API_ENDPOINT\"],\n",
    ")"
   ]
  },
  {
   "cell_type": "markdown",
   "id": "f2b303a3-d13f-43b6-a95e-bd119de5c4fd",
   "metadata": {},
   "source": [
    "and add the chucks to the vector store."
   ]
  },
  {
   "cell_type": "code",
   "execution_count": 11,
   "id": "04a18a49-6d39-42bf-ac9f-60b26cfb27c3",
   "metadata": {},
   "outputs": [],
   "source": [
    "inserted_ids = vstore.add_documents(alice)"
   ]
  },
  {
   "cell_type": "code",
   "execution_count": 12,
   "id": "f042c9eb-bb74-4d67-ba38-8ad8bcf8de7c",
   "metadata": {},
   "outputs": [],
   "source": [
    "print(f\"\\nInserted {len(inserted_ids)} documents.\")"
   ]
  },
  {
   "attachments": {},
   "cell_type": "markdown",
   "id": "4f21a9fc-61e9-4fac-acfa-1bbadca56ef9",
   "metadata": {},
   "source": [
    "Let's now focus on the decoder_model, the LLM that will make sense of the context provided by the vector store together with the question and try to answer the question."
   ]
  },
  {
   "cell_type": "code",
   "execution_count": 10,
   "id": "6ddd1686-a546-442a-a2d0-c0024fbfa1a4",
   "metadata": {},
   "outputs": [],
   "source": [
    "from langchain_core.prompts import ChatPromptTemplate\n",
    "\n",
    "system_prompt = ( \"You are an assistant for question-answering tasks. \"\n",
    "                 \"Answer each question based ONLY on the supplied context. \"\n",
    "                 \"If you don't know the answer, say you don't know the answer. \"\n",
    "                 \"Respond with at most three sentences. Keep answers concise and factual.\\n\\n\" \"{context}\" )\n",
    "\n",
    "prompt = ChatPromptTemplate.from_messages( [ (\"system\", system_prompt), (\"human\", \"{input}\"), ] )"
   ]
  },
  {
   "cell_type": "markdown",
   "id": "132a94c2-923e-4703-a574-4425aa18283b",
   "metadata": {},
   "source": [
    "Let's now create a simple q&A chain consisting of the decoder model and vector store retriever."
   ]
  },
  {
   "cell_type": "code",
   "execution_count": 11,
   "id": "cce811b6-a6b5-4f40-984a-95e37cc42886",
   "metadata": {},
   "outputs": [],
   "source": [
    "from langchain.chains import create_retrieval_chain\n",
    "from langchain.chains.combine_documents import create_stuff_documents_chain\n",
    "\n",
    "decoder_model = Ollama(model=\"llama3:instruct\", base_url=\"http://192.168.1.111:11434\", temperature=0, top_p=0.05, top_k=10)\n",
    "\n",
    "qa_chain = create_stuff_documents_chain(decoder_model, prompt)\n",
    "retriever = vstore.as_retriever(search_kwargs={'k': 1, 'filter': {\"chunk_size\": 512}})\n",
    "\n",
    "rag_chain = create_retrieval_chain(retriever, qa_chain)"
   ]
  },
  {
   "cell_type": "markdown",
   "id": "0b07fb94-66bd-4154-8755-b7cfd3f53697",
   "metadata": {},
   "source": [
    "It might be helpful to use this helpful function to display the results (answers) based on the questions and context provided to the model."
   ]
  },
  {
   "cell_type": "code",
   "execution_count": 12,
   "id": "de9d5967-b1df-48b4-b726-7c568656ba40",
   "metadata": {},
   "outputs": [],
   "source": [
    "def print_rag_question_and_answer(result: dict) -> str:\n",
    "    return f\"Question: {result['input']}\\nAnswer: {result['answer']}\\nChunksize: {result['context'][0].dict()['metadata']['chunk_size']}\\n\\n\""
   ]
  },
  {
   "cell_type": "code",
   "execution_count": 13,
   "id": "f2ff91b7-6caa-4090-ba20-38dc70dd86d4",
   "metadata": {},
   "outputs": [
    {
     "data": {
      "text/plain": [
       "{'input': 'Who is Alice?',\n",
       " 'context': [Document(page_content='“Who are _you?_” said the Caterpillar.\\n\\nThis was not an encouraging opening for a conversation. Alice replied,\\nrather shyly, “I—I hardly know, sir, just at present—at least I know\\nwho I _was_ when I got up this morning, but I think I must have been\\nchanged several times since then.”\\n\\n“What do you mean by that?” said the Caterpillar sternly. “Explain\\nyourself!”\\n\\n“I can’t explain _myself_, I’m afraid, sir,” said Alice, “because I’m\\nnot myself, you see.”\\n\\n“I don’t see,” said the Caterpillar.', metadata={'filename': 'alice-modified.txt', 'chunk_size': 512, 'chunk_overlap': 128})],\n",
       " 'answer': \"Alice is a character who has just been talking to the Caterpillar in Wonderland. She's unsure of her current identity because she thinks she may have changed several times since waking up that morning.\"}"
      ]
     },
     "execution_count": 13,
     "metadata": {},
     "output_type": "execute_result"
    }
   ],
   "source": [
    "result = rag_chain.invoke({\"input\": \"Who is Alice?\"})\n",
    "result"
   ]
  },
  {
   "cell_type": "markdown",
   "id": "71c120aa-7413-4bc2-a021-20f40abb68e3",
   "metadata": {},
   "source": [
    "This is promising. Let's see how the answer improves when we increase the similarity search to include the three nearest vectors."
   ]
  },
  {
   "cell_type": "code",
   "execution_count": 14,
   "id": "bf2ecee4-6f40-46f8-8940-d3f352d4bd0a",
   "metadata": {},
   "outputs": [
    {
     "data": {
      "text/plain": [
       "{'input': 'Who is Alice?',\n",
       " 'context': [Document(page_content='“Who are _you?_” said the Caterpillar.\\n\\nThis was not an encouraging opening for a conversation. Alice replied,\\nrather shyly, “I—I hardly know, sir, just at present—at least I know\\nwho I _was_ when I got up this morning, but I think I must have been\\nchanged several times since then.”\\n\\n“What do you mean by that?” said the Caterpillar sternly. “Explain\\nyourself!”\\n\\n“I can’t explain _myself_, I’m afraid, sir,” said Alice, “because I’m\\nnot myself, you see.”\\n\\n“I don’t see,” said the Caterpillar.', metadata={'filename': 'alice-modified.txt', 'chunk_size': 512, 'chunk_overlap': 128}),\n",
       "  Document(page_content='When the procession came opposite to Alice, they all stopped and looked\\nat her, and the Queen said severely “Who is this?” She said it to the\\nKnave of Hearts, who only bowed and smiled in reply.\\n\\n“Idiot!” said the Queen, tossing her head impatiently; and, turning to\\nAlice, she went on, “What’s your name, child?”\\n\\n“My name is Alice, so please your Majesty,” said Alice very politely;\\nbut she added, to herself, “Why, they’re only a pack of cards, after\\nall. I needn’t be afraid of them!”', metadata={'filename': 'alice-modified.txt', 'chunk_size': 512, 'chunk_overlap': 128}),\n",
       "  Document(page_content='Alice took up the fan and gloves, and, as the hall was very hot, she\\nkept fanning herself all the time she went on talking: “Dear, dear! How\\nqueer everything is to-day! And yesterday things went on just as usual.\\nI wonder if I’ve been changed in the night? Let me think: was I the\\nsame when I got up this morning? I almost think I can remember feeling\\na little different. But if I’m not the same, the next question is, Who\\nin the world am I? Ah, _that’s_ the great puzzle!” And she began', metadata={'filename': 'alice-modified.txt', 'chunk_size': 512, 'chunk_overlap': 128})],\n",
       " 'answer': 'Alice is a young girl who has just arrived in a strange place and is trying to make sense of her surroundings. She is polite and curious, but also a bit confused and uncertain about her own identity.'}"
      ]
     },
     "execution_count": 14,
     "metadata": {},
     "output_type": "execute_result"
    }
   ],
   "source": [
    "retriever = vstore.as_retriever(search_kwargs={'k': 3, 'filter': {\"chunk_size\": 512}})\n",
    "rag_chain = create_retrieval_chain(retriever, qa_chain)\n",
    "result = rag_chain.invoke({\"input\": \"Who is Alice?\"})\n",
    "result"
   ]
  },
  {
   "cell_type": "markdown",
   "id": "0e92fdf7-e7a1-44ee-99da-4361020a73e3",
   "metadata": {},
   "source": [
    "Let's try another example."
   ]
  },
  {
   "cell_type": "code",
   "execution_count": 20,
   "id": "b5ff41c8-d931-41b0-a9f4-cdd290ecba12",
   "metadata": {},
   "outputs": [
    {
     "data": {
      "text/plain": [
       "{'input': 'Who does Alice follow before falling down the rabbit hole?',\n",
       " 'context': [Document(page_content='CHAPTER I.\\nDown the Rabbit-Hole\\n\\n\\nAlice was beginning to get very tired of sitting by her sister on the\\nbank, and of having nothing to do: once or twice she had peeped into\\nthe book her sister was reading, but it had no pictures or\\nconversations in it, “and what is the use of a book,” thought Alice\\n“without pictures or conversations?”', metadata={'filename': 'alice-modified.txt', 'chunk_size': 512, 'chunk_overlap': 128}),\n",
       "  Document(page_content='Alice watched the White Rabbit as he fumbled over the list, feeling\\nvery curious to see what the next witness would be like, “—for they\\nhaven’t got much evidence _yet_,” she said to herself. Imagine her\\nsurprise, when the White Rabbit read out, at the top of his shrill\\nlittle voice, the name “Alice!”\\n\\n\\n\\n\\nCHAPTER XII.\\nAlice’s Evidence', metadata={'filename': 'alice-modified.txt', 'chunk_size': 512, 'chunk_overlap': 128}),\n",
       "  Document(page_content='In another moment down went Alice after it, never once considering how\\nin the world she was to get out again.\\n\\nThe rabbit-hole went straight on like a tunnel for some way, and then\\ndipped suddenly down, so suddenly that Alice had not a moment to think\\nabout stopping herself before she found herself falling down a very\\ndeep well.', metadata={'filename': 'alice-modified.txt', 'chunk_size': 512, 'chunk_overlap': 128})],\n",
       " 'answer': 'Alice follows the White Rabbit before falling down the rabbit hole.'}"
      ]
     },
     "execution_count": 20,
     "metadata": {},
     "output_type": "execute_result"
    }
   ],
   "source": [
    "retriever = vstore.as_retriever(search_kwargs={'k': 3, 'filter': {\"chunk_size\": 512}})\n",
    "rag_chain = create_retrieval_chain(retriever, qa_chain)\n",
    "result = rag_chain.invoke({\"input\": \"Who does Alice follow before falling down the rabbit hole?\"})\n",
    "result"
   ]
  },
  {
   "cell_type": "markdown",
   "id": "13070185-91d5-4ddc-b710-048a2c03ae62",
   "metadata": {},
   "source": [
    "Again, the response is good and plausible based on only the context provided, but can we go from a qualitative measure of good to a quantitative measure? One promising project is the RAG Assessment [ragas](https://docs.ragas.io/en/stable/index.html) python module. It has the ability to both measure the performance of RAG and also generate the ground-truth reference data by which to measure performance.\n",
    "\n",
    "Let's see how well it's able to create Q&A pairs that will act as a ground truth to measure performance of our RAG system.\n",
    "\n",
    "Ideally we should use stronger models to create the Q&A, rather than the same model we'll be testing. For example, gpt-4o and gpt-3.5-turbo are [recommended](https://docs.ragas.io/en/stable/concepts/testset_generation.html) in the documentation. For now, let's proceed cautiously. We may need to revisit this again later. "
   ]
  },
  {
   "cell_type": "code",
   "execution_count": null,
   "id": "66ac03d3-7207-4d4d-9184-bd2e4645eaf3",
   "metadata": {},
   "outputs": [],
   "source": [
    "from langchain.llms import Ollama\n",
    "from ragas.testset.generator import TestsetGenerator\n",
    "from ragas.testset.evolutions import simple #, reasoning, multi_context\n",
    "\n",
    "critic_model = Ollama(model=\"llama3:instruct\", base_url=\"http://192.168.1.111:11434\", temperature=0, top_p=0.05, top_k=10)\n",
    "\n",
    "generator = TestsetGenerator.from_langchain(\n",
    "    decoder_model,\n",
    "    critic_model,\n",
    "    embedding_model\n",
    ")\n",
    "\n",
    "distributions = {\n",
    "    simple: 1.0\n",
    "}\n",
    "\n",
    "test_generation= generator.generate_with_langchain_docs(alice, 50, distributions)"
   ]
  },
  {
   "cell_type": "code",
   "execution_count": 15,
   "id": "60fa0957-359d-4367-be8c-c6b33cf2bd66",
   "metadata": {},
   "outputs": [],
   "source": [
    "import pandas as pd"
   ]
  },
  {
   "cell_type": "code",
   "execution_count": null,
   "id": "d90d829a-7196-45a7-8f5c-567bbeacbead",
   "metadata": {},
   "outputs": [],
   "source": [
    "df = test_generation.to_pandas()"
   ]
  },
  {
   "cell_type": "code",
   "execution_count": 23,
   "id": "d7d752a2-b469-46ca-ba6f-39b0ac0de321",
   "metadata": {},
   "outputs": [
    {
     "data": {
      "text/html": [
       "<div>\n",
       "<style scoped>\n",
       "    .dataframe tbody tr th:only-of-type {\n",
       "        vertical-align: middle;\n",
       "    }\n",
       "\n",
       "    .dataframe tbody tr th {\n",
       "        vertical-align: top;\n",
       "    }\n",
       "\n",
       "    .dataframe thead th {\n",
       "        text-align: right;\n",
       "    }\n",
       "</style>\n",
       "<table border=\"1\" class=\"dataframe\">\n",
       "  <thead>\n",
       "    <tr style=\"text-align: right;\">\n",
       "      <th></th>\n",
       "      <th>question</th>\n",
       "      <th>contexts</th>\n",
       "      <th>ground_truth</th>\n",
       "      <th>evolution_type</th>\n",
       "      <th>metadata</th>\n",
       "      <th>episode_done</th>\n",
       "    </tr>\n",
       "  </thead>\n",
       "  <tbody>\n",
       "    <tr>\n",
       "      <th>0</th>\n",
       "      <td>Here's a question that can be fully answered from the given context:\\n\\n\"Is it likely for Alice to get any helpful response from the mouse about finding the way out of the pool?\"\\n\\nThis question is formed using the topic \"Swimming\", which is the key phrase in the context. The answer would involve discussing Alice's attempt to communicate with the mouse and whether she can expect a helpful res...</td>\n",
       "      <td>['“Would it be of any use, now,” thought Alice, “to speak to this mouse?\\nEverything is so out-of-the-way down here, that I should think very\\nlikely it can talk: at any rate, there’s no harm in trying.” So she\\nbegan: “O Mouse, do you know the way out of this pool? I am very tired\\nof swimming about here, O Mouse!” (Alice thought this must be the right\\nway of speaking to a mouse: she had nev...</td>\n",
       "      <td>Alice attempts to speak to the mouse, thinking it might be able to help her find the way out of the pool. She starts by asking if the mouse knows the way out, but since this is the first time she's tried speaking to a mouse, there's no guarantee that the mouse will respond or provide helpful information.</td>\n",
       "      <td>simple</td>\n",
       "      <td>[{'filename': 'alice-modified.txt'}]</td>\n",
       "      <td>True</td>\n",
       "    </tr>\n",
       "    <tr>\n",
       "      <th>1</th>\n",
       "      <td>Here's a question that can be fully answered from the given context:\\n\\nWhat is the Mouse's reaction when Alice talks about a nurse?\\n\\nAnswer: The Mouse becomes bristling all over, indicating it must be really offended.</td>\n",
       "      <td>['nurse—and she’s such a capital one for catching mice—oh, I beg your\\npardon!” cried Alice again, for this time the Mouse was bristling all\\nover, and she felt certain it must be really offended. “We won’t talk\\nabout her any more if you’d rather not.”']</td>\n",
       "      <td>The Mouse becomes bristling all over, indicating it must be really offended.</td>\n",
       "      <td>simple</td>\n",
       "      <td>[{'filename': 'alice-modified.txt'}]</td>\n",
       "      <td>True</td>\n",
       "    </tr>\n",
       "    <tr>\n",
       "      <th>2</th>\n",
       "      <td>Here's a question that can be fully answered from the given context:\\n\\n\"What is the reaction of the baby to the chaos caused by the cook?\"\\n\\nThis question can be answered based on the context, which describes the baby as \"howling so much already\" during the scene.</td>\n",
       "      <td>['Alice did not at all like the tone of this remark, and thought it would\\nbe as well to introduce some other subject of conversation. While she\\nwas trying to fix on one, the cook took the cauldron of soup off the\\nfire, and at once set to work throwing everything within her reach at\\nthe Duchess and the baby—the fire-irons came first; then followed a\\nshower of saucepans, plates, and dishes....</td>\n",
       "      <td>The baby was howling so much already</td>\n",
       "      <td>simple</td>\n",
       "      <td>[{'filename': 'alice-modified.txt'}]</td>\n",
       "      <td>True</td>\n",
       "    </tr>\n",
       "    <tr>\n",
       "      <th>3</th>\n",
       "      <td>Here's a question that can be fully answered from the given context:\\n\\nWhat happens to Alice as an unusually large saucepan flies by her?\\n\\nAnswer: The saucepan very nearly carries off Alice's precious nose.</td>\n",
       "      <td>['“Oh, _please_ mind what you’re doing!” cried Alice, jumping up and down\\nin an agony of terror. “Oh, there goes his _precious_ nose!” as an\\nunusually large saucepan flew close by it, and very nearly carried it\\noff.\\n\\n“If everybody minded their own business,” the Duchess said in a hoarse\\ngrowl, “the world would go round a deal faster than it does.”']</td>\n",
       "      <td>As an unusually large saucepan flies by her, it very nearly carries off Alice's precious nose.</td>\n",
       "      <td>simple</td>\n",
       "      <td>[{'filename': 'alice-modified.txt'}]</td>\n",
       "      <td>True</td>\n",
       "    </tr>\n",
       "    <tr>\n",
       "      <th>4</th>\n",
       "      <td>Based on the given context, here's a question that can be fully answered:\\n\\nKeyphrase: \"Growing large\"\\nQuestion: \"What is the character's hope regarding growing large again?</td>\n",
       "      <td>['and put it to her lips. “I know _something_ interesting is sure to\\nhappen,” she said to herself, “whenever I eat or drink anything; so\\nI’ll just see what this bottle does. I do hope it’ll make me grow large\\nagain, for really I’m quite tired of being such a tiny little thing!”']</td>\n",
       "      <td>The character hopes that drinking from the bottle will make her grow large again, as she is 'quite tired of being such a tiny little thing!'</td>\n",
       "      <td>simple</td>\n",
       "      <td>[{'filename': 'alice-modified.txt'}]</td>\n",
       "      <td>True</td>\n",
       "    </tr>\n",
       "  </tbody>\n",
       "</table>\n",
       "</div>"
      ],
      "text/plain": [
       "                                                                                                                                                                                                                                                                                                                                                                                                          question  \\\n",
       "0  Here's a question that can be fully answered from the given context:\\n\\n\"Is it likely for Alice to get any helpful response from the mouse about finding the way out of the pool?\"\\n\\nThis question is formed using the topic \"Swimming\", which is the key phrase in the context. The answer would involve discussing Alice's attempt to communicate with the mouse and whether she can expect a helpful res...   \n",
       "1                                                                                                                                                                                     Here's a question that can be fully answered from the given context:\\n\\nWhat is the Mouse's reaction when Alice talks about a nurse?\\n\\nAnswer: The Mouse becomes bristling all over, indicating it must be really offended.   \n",
       "2                                                                                                                                       Here's a question that can be fully answered from the given context:\\n\\n\"What is the reaction of the baby to the chaos caused by the cook?\"\\n\\nThis question can be answered based on the context, which describes the baby as \"howling so much already\" during the scene.   \n",
       "3                                                                                                                                                                                                Here's a question that can be fully answered from the given context:\\n\\nWhat happens to Alice as an unusually large saucepan flies by her?\\n\\nAnswer: The saucepan very nearly carries off Alice's precious nose.   \n",
       "4                                                                                                                                                                                                                                  Based on the given context, here's a question that can be fully answered:\\n\\nKeyphrase: \"Growing large\"\\nQuestion: \"What is the character's hope regarding growing large again?   \n",
       "\n",
       "                                                                                                                                                                                                                                                                                                                                                                                                          contexts  \\\n",
       "0  ['“Would it be of any use, now,” thought Alice, “to speak to this mouse?\\nEverything is so out-of-the-way down here, that I should think very\\nlikely it can talk: at any rate, there’s no harm in trying.” So she\\nbegan: “O Mouse, do you know the way out of this pool? I am very tired\\nof swimming about here, O Mouse!” (Alice thought this must be the right\\nway of speaking to a mouse: she had nev...   \n",
       "1                                                                                                                                                  ['nurse—and she’s such a capital one for catching mice—oh, I beg your\\npardon!” cried Alice again, for this time the Mouse was bristling all\\nover, and she felt certain it must be really offended. “We won’t talk\\nabout her any more if you’d rather not.”']   \n",
       "2  ['Alice did not at all like the tone of this remark, and thought it would\\nbe as well to introduce some other subject of conversation. While she\\nwas trying to fix on one, the cook took the cauldron of soup off the\\nfire, and at once set to work throwing everything within her reach at\\nthe Duchess and the baby—the fire-irons came first; then followed a\\nshower of saucepans, plates, and dishes....   \n",
       "3                                            ['“Oh, _please_ mind what you’re doing!” cried Alice, jumping up and down\\nin an agony of terror. “Oh, there goes his _precious_ nose!” as an\\nunusually large saucepan flew close by it, and very nearly carried it\\noff.\\n\\n“If everybody minded their own business,” the Duchess said in a hoarse\\ngrowl, “the world would go round a deal faster than it does.”']   \n",
       "4                                                                                                                      ['and put it to her lips. “I know _something_ interesting is sure to\\nhappen,” she said to herself, “whenever I eat or drink anything; so\\nI’ll just see what this bottle does. I do hope it’ll make me grow large\\nagain, for really I’m quite tired of being such a tiny little thing!”']   \n",
       "\n",
       "                                                                                                                                                                                                                                                                                                        ground_truth  \\\n",
       "0  Alice attempts to speak to the mouse, thinking it might be able to help her find the way out of the pool. She starts by asking if the mouse knows the way out, but since this is the first time she's tried speaking to a mouse, there's no guarantee that the mouse will respond or provide helpful information.   \n",
       "1                                                                                                                                                                                                                                       The Mouse becomes bristling all over, indicating it must be really offended.   \n",
       "2                                                                                                                                                                                                                                                                               The baby was howling so much already   \n",
       "3                                                                                                                                                                                                                     As an unusually large saucepan flies by her, it very nearly carries off Alice's precious nose.   \n",
       "4                                                                                                                                                                       The character hopes that drinking from the bottle will make her grow large again, as she is 'quite tired of being such a tiny little thing!'   \n",
       "\n",
       "  evolution_type                              metadata  episode_done  \n",
       "0         simple  [{'filename': 'alice-modified.txt'}]          True  \n",
       "1         simple  [{'filename': 'alice-modified.txt'}]          True  \n",
       "2         simple  [{'filename': 'alice-modified.txt'}]          True  \n",
       "3         simple  [{'filename': 'alice-modified.txt'}]          True  \n",
       "4         simple  [{'filename': 'alice-modified.txt'}]          True  "
      ]
     },
     "execution_count": 23,
     "metadata": {},
     "output_type": "execute_result"
    }
   ],
   "source": [
    "pd.options.display.max_colwidth = 400\n",
    "df.head()"
   ]
  },
  {
   "cell_type": "markdown",
   "id": "f8c880c9-424f-46f6-8002-0654ce4cf35c",
   "metadata": {},
   "source": [
    "Let's save these questions and answers. We'll reuse them multiple times and they are expensive to compute."
   ]
  },
  {
   "cell_type": "code",
   "execution_count": null,
   "id": "2c245b87-a694-4938-b659-b64936fab246",
   "metadata": {},
   "outputs": [],
   "source": [
    "# \n",
    "# WARNING: Only execute this cell if you want to overwrite the pre-generated set of Q&A.\n",
    "# \n",
    "df.to_csv('q_and_a.csv', index=False)"
   ]
  },
  {
   "cell_type": "markdown",
   "id": "756b7382-06bf-4384-8ce6-1007f93bc7ae",
   "metadata": {},
   "source": [
    "The format of the questions appears a little different to what I would expect and what we can use. I suspect this is due to using llama3 vs chatGPT. We therefore need to clean up the text."
   ]
  },
  {
   "cell_type": "code",
   "execution_count": 16,
   "id": "2851427a-0d94-40c4-92b5-25b2f6e1f37d",
   "metadata": {},
   "outputs": [],
   "source": [
    "# \n",
    "# WARNING: Only execute this cell if you want to use a pre-generated set of Q&A.\n",
    "# \n",
    "df = pd.read_csv('q_and_a.csv')"
   ]
  },
  {
   "cell_type": "code",
   "execution_count": 17,
   "id": "b5aa8442-5b57-4cb7-9a8e-e822af75c448",
   "metadata": {},
   "outputs": [],
   "source": [
    "test_questions = df['question'].values.tolist()\n",
    "test_ground_truth =  df['ground_truth'].values.tolist()"
   ]
  },
  {
   "cell_type": "code",
   "execution_count": 18,
   "id": "3e200b82-38d6-4ee2-8d84-b8258e11ecc8",
   "metadata": {},
   "outputs": [
    {
     "data": {
      "text/plain": [
       "['Is it likely for Alice to get any helpful response from the mouse about finding the way out of the pool?',\n",
       " \"What is the Mouse's reaction when Alice talks about a nurse?\",\n",
       " 'What is the reaction of the baby to the chaos caused by the cook?',\n",
       " 'What happens to Alice as an unusually large saucepan flies by her?',\n",
       " 'Question: \"What is the character\\'s hope regarding growing large again?',\n",
       " \"What is the Hatter's explanation for why tea-things are not washed between uses?\",\n",
       " 'What does the protagonist plan to do with the bottle in order to satisfy her curiosity?',\n",
       " 'What does Alice try to help with when she says \"Oh, do let me help to undo it!\"?',\n",
       " 'What kind of things does the Mouse consider \"vulgar\" and why, specifically in reference to cats?',\n",
       " 'What is unique about the croquet-ground in this game?',\n",
       " \"What does the Queen say in response to the Lizard's statement?\",\n",
       " \"What is the Gryphon's response to Alice's request for information about soles and eels?\",\n",
       " 'What is used to make blackened shoes shiny?',\n",
       " 'What subjects did the Classics master teach?',\n",
       " 'According to the story, what precautions does Alice take before drinking something?',\n",
       " 'What is the Gryphon\\'s reason for finding something \"fun\" in the Queen\\'s actions?',\n",
       " 'What was the nature of the dispute between the King, Queen, and Executioner when Alice returned to the Cheshire Cat?',\n",
       " 'What does the Mouse want to do before telling Alice its history?',\n",
       " \"What is the Gryphon's response when he forgets the words of the song?\",\n",
       " 'What does the Mock Turtle ask Alice to do at the beginning of their conversation?',\n",
       " 'What does Alice say is important to her?',\n",
       " 'What did Edwin and Morcar, the earls of Mercia and Northumbria, declare for?',\n",
       " 'context: The great question certainly was, what?',\n",
       " 'What advice does the Caterpillar give to Alice?',\n",
       " 'What does Alice say is allowed when it comes to looking at the King?',\n",
       " \"What does Alice believe is lacking in the King's statement?\",\n",
       " \"What does the narrator think about the creature's potential appearance if it had grown up?\",\n",
       " 'What kind of education did the Mock Turtle receive?',\n",
       " 'question: \"What was Alice trying to figure out about the mushroom?',\n",
       " 'What happens to Alice when she swallows one of the cakes?',\n",
       " 'Question: \"What does the King ask during his cross-examination of the witness?',\n",
       " 'What was Alice asked to do when she appeared on the scene?',\n",
       " 'According to Alice, what would happen if someone were to turn into a pig?',\n",
       " \"What is Alice's reaction when the Mock Turtle starts explaining something?\",\n",
       " \"What do the soldiers say in response to the Queen's question about playing croquet?\",\n",
       " 'What was unusual about the education of the Mock Turtle and his friends?',\n",
       " 'What was unusual about the way the words came out when she spoke?',\n",
       " 'What is the Pigeon trying to do or find in its conversation with Alice?',\n",
       " \"What is Alice's initial impression of the baby's appearance?\",\n",
       " 'Question: \"What unexpected event occurred to Hiss\\'s face?',\n",
       " \"What is Alice's concern about the Lory?\",\n",
       " 'What is Alice\\'s plan for using the \"Eat Me\" cake?',\n",
       " 'Who interrupts the conversation to ask about the games?',\n",
       " \"What is the Duchess's attitude towards figures, as revealed in her conversation with Alice about chopping off someone's head?\",\n",
       " 'question: \"What did Alice ask the Mock Turtle after being discouraged by the Gryphon?',\n",
       " 'What is Alice trying to understand about the poem being recited by the King?',\n",
       " \"What is the Gryphon's priority when it comes to hearing Alice's story?\",\n",
       " 'What does the Mouse ask Alice to do before telling her its history?',\n",
       " 'What happens to the soup in this scene?',\n",
       " \"What is the speaker's wish regarding their sweet-tempered nature?\"]"
      ]
     },
     "execution_count": 18,
     "metadata": {},
     "output_type": "execute_result"
    }
   ],
   "source": [
    "import re\n",
    "\n",
    "test_questions_pass1 = []\n",
    "pattern = r'(.*\\?)'\n",
    "for item in test_questions:\n",
    "    match = re.search(pattern, item)\n",
    "    if match:\n",
    "        #print(match.group().strip('\"'))\n",
    "        test_questions_pass1.append(match.group().strip('\"'))\n",
    "    else:\n",
    "        print(\"no match\")\n",
    "test_questions_pass1       "
   ]
  },
  {
   "cell_type": "markdown",
   "id": "ea1821d5-6915-449e-9dbb-bc0e491a4ffb",
   "metadata": {},
   "source": [
    "This is almost enough. We just need to remove `(q|Q)uestion: \"` from the start of some of the strings and reject the 23rd question as it makes no sense."
   ]
  },
  {
   "cell_type": "code",
   "execution_count": 19,
   "id": "862393a8-4d1f-4388-855b-1d52ea4542b8",
   "metadata": {},
   "outputs": [
    {
     "data": {
      "text/plain": [
       "'the right thing to eat or drink'"
      ]
     },
     "execution_count": 19,
     "metadata": {},
     "output_type": "execute_result"
    }
   ],
   "source": [
    "index = test_questions_pass1.index('context: The great question certainly was, what?')\n",
    "test_questions_pass1.pop(index)\n",
    "test_ground_truth.pop(index)"
   ]
  },
  {
   "cell_type": "code",
   "execution_count": 20,
   "id": "35c10532-f567-4f58-b5c7-15e5dc2c8437",
   "metadata": {},
   "outputs": [],
   "source": [
    "# for question, truth in zip(test_questions_pass1, test_ground_truth):\n",
    "#     print(f\"Question: {question}\\nAnswer: {truth}\\n\\n\")"
   ]
  },
  {
   "cell_type": "code",
   "execution_count": 21,
   "id": "f81dfeff-002b-4011-bdf0-1368a05903cd",
   "metadata": {},
   "outputs": [
    {
     "name": "stderr",
     "output_type": "stream",
     "text": [
      "/tmp/ipykernel_4033062/3660743472.py:5: DeprecationWarning: Flags not at the start of the expression '^(?i)question?: \\\\\"' but at position 1\n",
      "  test_questions_pass2.append(re.sub(pattern, \"\", item))\n"
     ]
    },
    {
     "data": {
      "text/plain": [
       "['Is it likely for Alice to get any helpful response from the mouse about finding the way out of the pool?',\n",
       " \"What is the Mouse's reaction when Alice talks about a nurse?\",\n",
       " 'What is the reaction of the baby to the chaos caused by the cook?',\n",
       " 'What happens to Alice as an unusually large saucepan flies by her?',\n",
       " \"What is the character's hope regarding growing large again?\",\n",
       " \"What is the Hatter's explanation for why tea-things are not washed between uses?\",\n",
       " 'What does the protagonist plan to do with the bottle in order to satisfy her curiosity?',\n",
       " 'What does Alice try to help with when she says \"Oh, do let me help to undo it!\"?',\n",
       " 'What kind of things does the Mouse consider \"vulgar\" and why, specifically in reference to cats?',\n",
       " 'What is unique about the croquet-ground in this game?',\n",
       " \"What does the Queen say in response to the Lizard's statement?\",\n",
       " \"What is the Gryphon's response to Alice's request for information about soles and eels?\",\n",
       " 'What is used to make blackened shoes shiny?',\n",
       " 'What subjects did the Classics master teach?',\n",
       " 'According to the story, what precautions does Alice take before drinking something?',\n",
       " 'What is the Gryphon\\'s reason for finding something \"fun\" in the Queen\\'s actions?',\n",
       " 'What was the nature of the dispute between the King, Queen, and Executioner when Alice returned to the Cheshire Cat?',\n",
       " 'What does the Mouse want to do before telling Alice its history?',\n",
       " \"What is the Gryphon's response when he forgets the words of the song?\",\n",
       " 'What does the Mock Turtle ask Alice to do at the beginning of their conversation?',\n",
       " 'What does Alice say is important to her?',\n",
       " 'What did Edwin and Morcar, the earls of Mercia and Northumbria, declare for?',\n",
       " 'What advice does the Caterpillar give to Alice?',\n",
       " 'What does Alice say is allowed when it comes to looking at the King?',\n",
       " \"What does Alice believe is lacking in the King's statement?\",\n",
       " \"What does the narrator think about the creature's potential appearance if it had grown up?\",\n",
       " 'What kind of education did the Mock Turtle receive?',\n",
       " 'What was Alice trying to figure out about the mushroom?',\n",
       " 'What happens to Alice when she swallows one of the cakes?',\n",
       " 'What does the King ask during his cross-examination of the witness?',\n",
       " 'What was Alice asked to do when she appeared on the scene?',\n",
       " 'According to Alice, what would happen if someone were to turn into a pig?',\n",
       " \"What is Alice's reaction when the Mock Turtle starts explaining something?\",\n",
       " \"What do the soldiers say in response to the Queen's question about playing croquet?\",\n",
       " 'What was unusual about the education of the Mock Turtle and his friends?',\n",
       " 'What was unusual about the way the words came out when she spoke?',\n",
       " 'What is the Pigeon trying to do or find in its conversation with Alice?',\n",
       " \"What is Alice's initial impression of the baby's appearance?\",\n",
       " \"What unexpected event occurred to Hiss's face?\",\n",
       " \"What is Alice's concern about the Lory?\",\n",
       " 'What is Alice\\'s plan for using the \"Eat Me\" cake?',\n",
       " 'Who interrupts the conversation to ask about the games?',\n",
       " \"What is the Duchess's attitude towards figures, as revealed in her conversation with Alice about chopping off someone's head?\",\n",
       " 'What did Alice ask the Mock Turtle after being discouraged by the Gryphon?',\n",
       " 'What is Alice trying to understand about the poem being recited by the King?',\n",
       " \"What is the Gryphon's priority when it comes to hearing Alice's story?\",\n",
       " 'What does the Mouse ask Alice to do before telling her its history?',\n",
       " 'What happens to the soup in this scene?',\n",
       " \"What is the speaker's wish regarding their sweet-tempered nature?\"]"
      ]
     },
     "execution_count": 21,
     "metadata": {},
     "output_type": "execute_result"
    }
   ],
   "source": [
    "test_questions_pass2 = []\n",
    "\n",
    "pattern = r\"^(?i)question?: \\\"\"\n",
    "for item in test_questions_pass1:\n",
    "    test_questions_pass2.append(re.sub(pattern, \"\", item))\n",
    "\n",
    "test_questions_pass2"
   ]
  },
  {
   "cell_type": "markdown",
   "id": "75697e08-1acc-4d37-9559-8024120e0fbe",
   "metadata": {},
   "source": [
    "We are going to need to be able to prepare question, answer and context data together with the ground truth values multiple times later as we experiment with different `chunk_size` and `chuck_overlap` values. Let's define a helper function `prepare_question_and_answer_dataset`."
   ]
  },
  {
   "cell_type": "code",
   "execution_count": 22,
   "id": "65af1484-14af-4ec5-8657-788cf355c75f",
   "metadata": {},
   "outputs": [],
   "source": [
    "from datasets import Dataset\n",
    "from typing import List\n",
    "from langchain_core.runnables.base import RunnableBinding\n",
    "\n",
    "def prepare_question_and_answer_dataset(questions: List[str], ground_truth: List[str], rag_chain: RunnableBinding) -> Dataset:\n",
    "    answers = []\n",
    "    context = []\n",
    "\n",
    "    print(f\"Preparing Q&A dataset: \", end=\"\")\n",
    "    for question in questions:\n",
    "        result = rag_chain.invoke({\"input\": question})\n",
    "        contt = []\n",
    "        for i in range(len(result['context'])):\n",
    "            contt.append(result['context'][i].dict()['page_content'])\n",
    "        context.append(contt)    \n",
    "        answers.append(result['answer'])\n",
    "        # print(f\"Question: {question}\\nAnswer: {result['answer']}\\cContext: {contt}\\n\\n\")\n",
    "        print(f\"▯\", end=\"\")\n",
    "    \n",
    "    return Dataset.from_dict({\"question\": questions, \"ground_truth\": ground_truth, \"answer\": answers, \"contexts\": context})\n",
    "    "
   ]
  },
  {
   "cell_type": "markdown",
   "id": "605b1152-e026-486e-b15d-9fb4ec9e475d",
   "metadata": {},
   "source": [
    "and let's test whether it's working correctly."
   ]
  },
  {
   "cell_type": "code",
   "execution_count": 23,
   "id": "023573dd-694f-4dc7-99a1-382475e1ac20",
   "metadata": {},
   "outputs": [
    {
     "name": "stdout",
     "output_type": "stream",
     "text": [
      "Preparing Q&A dataset: ▯▯▯▯▯▯▯▯▯▯▯▯▯▯▯▯▯▯▯▯▯▯▯▯▯▯▯▯▯▯▯▯▯▯▯▯▯▯▯▯▯▯▯▯▯▯▯▯▯"
     ]
    },
    {
     "data": {
      "text/plain": [
       "Dataset({\n",
       "    features: ['question', 'ground_truth', 'answer', 'contexts'],\n",
       "    num_rows: 49\n",
       "})"
      ]
     },
     "execution_count": 23,
     "metadata": {},
     "output_type": "execute_result"
    }
   ],
   "source": [
    "alice_ds = prepare_question_and_answer_dataset(test_questions_pass2, test_ground_truth, rag_chain)\n",
    "alice_ds"
   ]
  },
  {
   "cell_type": "code",
   "execution_count": 24,
   "id": "4d66ba10-0d6b-4c70-b210-142ed493c22d",
   "metadata": {},
   "outputs": [],
   "source": [
    "from ragas import evaluate, RunConfig\n",
    "\n",
    "from ragas.metrics import (\n",
    "    answer_correctness,\n",
    "    answer_similarity,\n",
    "    answer_relevancy,\n",
    "    context_precision,\n",
    "    context_recall,\n",
    "    context_entity_recall,\n",
    "    faithfulness\n",
    ")\n",
    "\n",
    "run_config = RunConfig(\n",
    "    timeout=10,\n",
    "    max_retries=3,\n",
    "    max_wait=10,\n",
    "    max_workers=10,\n",
    "    thread_timeout= 120.0\n",
    ")"
   ]
  },
  {
   "cell_type": "markdown",
   "id": "5e424521-2203-4ae7-83da-575f8ad91298",
   "metadata": {},
   "source": [
    "We should now be able to provide the evaluate function with a long list of metrics let the GPU and CPU grind away. However, I seems to continually bump into the following bug https://github.com/explodinggradients/ragas/pull/858 resulting in the evaluation process hanging. I uninstalled the `ragas` module and installed the latest version from the main branch. This provides a configurable `thread_timeout` parameter. This didn't completely fix the problem but it did allow me to collect metrics for `faithfulness`, `answer_correctness` and `context_recall`. Hopefully this is fixed in later releases of the module.\n",
    "\n",
    "Instead of getting results for just a single `chunk_size`, let's evaluate them for `chuck_sizes` between 128 and 1280. \n",
    "\n",
    "pip uninstall ragas\n",
    "pip install git+https://github.com/explodinggradients/ragas.git"
   ]
  },
  {
   "cell_type": "code",
   "execution_count": 25,
   "id": "0535fb01-e5bb-44ac-9cb6-4ab09d682ec3",
   "metadata": {},
   "outputs": [
    {
     "name": "stdout",
     "output_type": "stream",
     "text": [
      "[128, 256, 384, 512, 640, 768, 896, 1024, 1152, 1280]\n",
      "[128, 128, 128, 128, 128, 154, 180, 205, 231, 256]\n"
     ]
    }
   ],
   "source": [
    "import math\n",
    "\n",
    "chunk_sizes = [x for x in range(128, 1408, 128)] \n",
    "chunk_overlaps = [max(math.ceil(x * 0.2), 128) for x in chunk_sizes]\n",
    "\n",
    "print(chunk_sizes)\n",
    "print(chunk_overlaps)"
   ]
  },
  {
   "cell_type": "code",
   "execution_count": 26,
   "id": "11f15293-5f3e-42e1-b5f2-695a0b3e357a",
   "metadata": {},
   "outputs": [],
   "source": [
    "text_splittings = []\n",
    "\n",
    "chunk_sizes = [x for x in range(128, 1408, 128)] \n",
    "chunk_overlaps = [max(math.ceil(x * 0.2), 128) for x in chunk_sizes]\n",
    "\n",
    "for chunk_size, chunk_overlap in zip(chunk_sizes, chunk_overlaps):\n",
    "    text_splitter = RecursiveCharacterTextSplitter(\n",
    "        chunk_size=chunk_size,\n",
    "        chunk_overlap=chunk_overlap,\n",
    "        length_function=len,\n",
    "        is_separator_regex=False\n",
    "    )\n",
    "    text_splittings.append(text_splitter.create_documents([alice_in_wonderland], metadatas=[{\"filename\": \"alice-modified.txt\",\n",
    "                                                                                             \"chunk_size\": chunk_size,\n",
    "                                                                                            \"chunk_overlap\": chunk_overlap}]))"
   ]
  },
  {
   "cell_type": "markdown",
   "id": "20c4bec7-0753-4482-8e18-9bfd929f48c4",
   "metadata": {},
   "source": [
    "and add them to the vector store."
   ]
  },
  {
   "cell_type": "code",
   "execution_count": 27,
   "id": "a2f923ae-f1c1-49e8-bb69-62f874de5c36",
   "metadata": {},
   "outputs": [],
   "source": [
    "#\n",
    "# Note: Only do this once!\n",
    "# \n",
    "for text_splitting in text_splittings:\n",
    "   inserted_ids = vstore.add_documents(text_splitting)\n",
    "   print(f\"\\nInserted {len(inserted_ids)} documents.\")"
   ]
  },
  {
   "cell_type": "markdown",
   "id": "f6b14abb-8df7-43ca-bbd3-a9a2d1deb508",
   "metadata": {},
   "source": [
    "So now when we search using the retriever we just need to filter based on `chunk_size`.  "
   ]
  },
  {
   "cell_type": "code",
   "execution_count": 34,
   "id": "9283a9af-97c5-40c2-8103-9a0649e0c3dd",
   "metadata": {},
   "outputs": [
    {
     "data": {
      "text/plain": [
       "{'input': 'Who is Alice?',\n",
       " 'context': [Document(page_content='Alice took up the fan and gloves, and, as the hall was very hot, she\\nkept fanning herself all the time she went on talking: “Dear, dear! How\\nqueer everything is to-day! And yesterday things went on just as usual.\\nI wonder if I’ve been changed in the night? Let me think: was I the\\nsame when I got up this morning? I almost think I can remember feeling\\na little different. But if I’m not the same, the next question is, Who\\nin the world am I? Ah, _that’s_ the great puzzle!” And she began\\nthinking over all the children she knew that were of the same age as\\nherself, to see if she could have been changed for any of them.', metadata={'filename': 'alice-modified.txt', 'chunk_size': 768, 'chunk_overlap': 154}),\n",
       "  Document(page_content='Alice was rather doubtful whether she ought not to lie down on her face\\nlike the three gardeners, but she could not remember ever having heard\\nof such a rule at processions; “and besides, what would be the use of a\\nprocession,” thought she, “if people had all to lie down upon their\\nfaces, so that they couldn’t see it?” So she stood still where she was,\\nand waited.\\n\\nWhen the procession came opposite to Alice, they all stopped and looked\\nat her, and the Queen said severely “Who is this?” She said it to the\\nKnave of Hearts, who only bowed and smiled in reply.\\n\\n“Idiot!” said the Queen, tossing her head impatiently; and, turning to\\nAlice, she went on, “What’s your name, child?”', metadata={'filename': 'alice-modified.txt', 'chunk_size': 768, 'chunk_overlap': 154}),\n",
       "  Document(page_content='Alice watched the White Rabbit as he fumbled over the list, feeling\\nvery curious to see what the next witness would be like, “—for they\\nhaven’t got much evidence _yet_,” she said to herself. Imagine her\\nsurprise, when the White Rabbit read out, at the top of his shrill\\nlittle voice, the name “Alice!”\\n\\n\\n\\n\\nCHAPTER XII.\\nAlice’s Evidence\\n\\n\\n“Here!” cried Alice, quite forgetting in the flurry of the moment how\\nlarge she had grown in the last few minutes, and she jumped up in such\\na hurry that she tipped over the jury-box with the edge of her skirt,\\nupsetting all the jurymen on to the heads of the crowd below, and there\\nthey lay sprawling about, reminding her very much of a globe of\\ngoldfish she had accidentally upset the week before.', metadata={'filename': 'alice-modified.txt', 'chunk_size': 768, 'chunk_overlap': 154})],\n",
       " 'answer': 'Alice is the child who is being questioned by the Queen in this chapter.'}"
      ]
     },
     "execution_count": 34,
     "metadata": {},
     "output_type": "execute_result"
    }
   ],
   "source": [
    "retriever = vstore.as_retriever(search_kwargs={'k': 3, 'filter': {\"chunk_size\": 768}})\n",
    "rag_chain = create_retrieval_chain(retriever, qa_chain)\n",
    "result = rag_chain.invoke({\"input\": \"Who is Alice?\"})\n",
    "result"
   ]
  },
  {
   "cell_type": "markdown",
   "id": "2fbe7d12-c1ee-496e-8c94-e8fb1c8274f7",
   "metadata": {},
   "source": [
    "The filter is working as expected. Let's now evaluate the metrics for each of the chunk_size and chunk_overlap combinations."
   ]
  },
  {
   "cell_type": "code",
   "execution_count": 31,
   "id": "9dceb219-6663-4133-8f14-4d8d4ef2437d",
   "metadata": {},
   "outputs": [],
   "source": [
    "#\n",
    "# The Evaluation run takes considerable CPU and GPU time. Here's a copy of the results.\n",
    "# \n",
    "test_results = [{'chunk_size': 128, 'faithfulness': 0.8180272108843536, 'answer_correctness': 0.638783415952732, 'context_recall': 0.7244897959183674}, {'chunk_size': 256, 'faithfulness': 0.8602040816326532, 'answer_correctness': 0.6422587130134549, 'context_recall': 0.7925170068027212}, {'chunk_size': 384, 'faithfulness': 0.926530612244898, 'answer_correctness': 0.6724619163660416, 'context_recall': 0.7951388888888888}, {'chunk_size': 512, 'faithfulness': 0.8180272108843536, 'answer_correctness': 0.6677098060014425, 'context_recall': 0.9284722222222221}, {'chunk_size': 640, 'faithfulness': 0.8680555555555555, 'answer_correctness': 0.6287862312881578, 'context_recall': 0.8136054421768708}, {'chunk_size': 768, 'faithfulness': 0.8041666666666667, 'answer_correctness': 0.6023146597362093, 'context_recall': 0.8605442176870749}, {'chunk_size': 896, 'faithfulness': 0.720486111111111, 'answer_correctness': 0.6206876131139919, 'context_recall': 0.8537414965986395}, {'chunk_size': 1024, 'faithfulness': 0.7721088435374148, 'answer_correctness': 0.6135452348432469, 'context_recall': 0.8537414965986395}, {'chunk_size': 1152, 'faithfulness': 0.7517006802721088, 'answer_correctness': 0.6200308365710562, 'context_recall': 0.8514492753623187}, {'chunk_size': 1280, 'faithfulness': 0.6904761904761904, 'answer_correctness': 0.5957223763980023, 'context_recall': 0.6777777777777778}, {'chunk_size': 416, 'faithfulness': 0.81875, 'answer_correctness': 0.6513233883696794, 'context_recall': 0.8129251700680271}, {'chunk_size': 448, 'faithfulness': 0.8887755102040815, 'answer_correctness': 0.6646949233385804, 'context_recall': 0.8323412698412698}, {'chunk_size': 480, 'faithfulness': 0.8860544217687074, 'answer_correctness': 0.6626374430558927, 'context_recall': 0.8971631205673758}]"
   ]
  },
  {
   "cell_type": "markdown",
   "id": "4c3aeac3-d2a4-448c-9a4a-325101ea1ec2",
   "metadata": {},
   "source": [
    "Let's try it on a small run first."
   ]
  },
  {
   "cell_type": "markdown",
   "id": "8e64131d-b2f5-4d64-94e9-2b25448edc43",
   "metadata": {},
   "source": [
    "Let's try it on a subset of our questions first."
   ]
  },
  {
   "cell_type": "code",
   "execution_count": 28,
   "id": "a2e6c05e-bb21-4766-b1ef-a7233b9dbacc",
   "metadata": {},
   "outputs": [
    {
     "name": "stdout",
     "output_type": "stream",
     "text": [
      "Chunk size: 128\n",
      "Preparing Q&A dataset: ▯▯▯▯▯"
     ]
    },
    {
     "data": {
      "application/vnd.jupyter.widget-view+json": {
       "model_id": "353817429d8245ca8854e8d13f6221ce",
       "version_major": 2,
       "version_minor": 0
      },
      "text/plain": [
       "Evaluating:   0%|          | 0/15 [00:00<?, ?it/s]"
      ]
     },
     "metadata": {},
     "output_type": "display_data"
    },
    {
     "name": "stdout",
     "output_type": "stream",
     "text": [
      "{'faithfulness': 0.5000, 'answer_correctness': 0.5804, 'context_recall': 0.6000}\n",
      "Chunk size: 256\n",
      "Preparing Q&A dataset: ▯▯▯▯▯"
     ]
    },
    {
     "data": {
      "application/vnd.jupyter.widget-view+json": {
       "model_id": "26af5fd02171493aae49ce5701f2eeea",
       "version_major": 2,
       "version_minor": 0
      },
      "text/plain": [
       "Evaluating:   0%|          | 0/15 [00:00<?, ?it/s]"
      ]
     },
     "metadata": {},
     "output_type": "display_data"
    },
    {
     "name": "stdout",
     "output_type": "stream",
     "text": [
      "{'faithfulness': 1.0000, 'answer_correctness': 0.6274, 'context_recall': 1.0000}\n",
      "Chunk size: 384\n",
      "Preparing Q&A dataset: ▯▯▯▯▯"
     ]
    },
    {
     "data": {
      "application/vnd.jupyter.widget-view+json": {
       "model_id": "77278bc6431a43878b9742a5a7be3082",
       "version_major": 2,
       "version_minor": 0
      },
      "text/plain": [
       "Evaluating:   0%|          | 0/15 [00:00<?, ?it/s]"
      ]
     },
     "metadata": {},
     "output_type": "display_data"
    },
    {
     "name": "stderr",
     "output_type": "stream",
     "text": [
      "Failed to parse output. Returning None.\n"
     ]
    },
    {
     "name": "stdout",
     "output_type": "stream",
     "text": [
      "{'faithfulness': 0.7800, 'answer_correctness': 0.6365, 'context_recall': 0.7000}\n",
      "Chunk size: 512\n",
      "Preparing Q&A dataset: ▯▯▯▯▯"
     ]
    },
    {
     "data": {
      "application/vnd.jupyter.widget-view+json": {
       "model_id": "eec5521432a74877934af15acfef9866",
       "version_major": 2,
       "version_minor": 0
      },
      "text/plain": [
       "Evaluating:   0%|          | 0/15 [00:00<?, ?it/s]"
      ]
     },
     "metadata": {},
     "output_type": "display_data"
    },
    {
     "name": "stderr",
     "output_type": "stream",
     "text": [
      "Failed to parse output. Returning None.\n"
     ]
    },
    {
     "name": "stdout",
     "output_type": "stream",
     "text": [
      "{'faithfulness': 0.7333, 'answer_correctness': 0.6159, 'context_recall': 0.9000}\n",
      "Chunk size: 640\n",
      "Preparing Q&A dataset: ▯▯▯▯▯"
     ]
    },
    {
     "data": {
      "application/vnd.jupyter.widget-view+json": {
       "model_id": "44e29ded3e4c4bb8af7d8e37d60998e9",
       "version_major": 2,
       "version_minor": 0
      },
      "text/plain": [
       "Evaluating:   0%|          | 0/15 [00:00<?, ?it/s]"
      ]
     },
     "metadata": {},
     "output_type": "display_data"
    },
    {
     "name": "stdout",
     "output_type": "stream",
     "text": [
      "{'faithfulness': 0.7500, 'answer_correctness': 0.5424, 'context_recall': 0.9000}\n",
      "Chunk size: 768\n",
      "Preparing Q&A dataset: ▯▯▯▯▯"
     ]
    },
    {
     "data": {
      "application/vnd.jupyter.widget-view+json": {
       "model_id": "9ae4e81c4f3445d0920d0c7c5e27c7ca",
       "version_major": 2,
       "version_minor": 0
      },
      "text/plain": [
       "Evaluating:   0%|          | 0/15 [00:00<?, ?it/s]"
      ]
     },
     "metadata": {},
     "output_type": "display_data"
    },
    {
     "name": "stdout",
     "output_type": "stream",
     "text": [
      "{'faithfulness': 0.6000, 'answer_correctness': 0.5289, 'context_recall': 0.8000}\n",
      "Chunk size: 896\n",
      "Preparing Q&A dataset: ▯▯▯▯▯"
     ]
    },
    {
     "data": {
      "application/vnd.jupyter.widget-view+json": {
       "model_id": "4342e1b513a94e9fb2f57ad72ed726c6",
       "version_major": 2,
       "version_minor": 0
      },
      "text/plain": [
       "Evaluating:   0%|          | 0/15 [00:00<?, ?it/s]"
      ]
     },
     "metadata": {},
     "output_type": "display_data"
    },
    {
     "name": "stderr",
     "output_type": "stream",
     "text": [
      "Failed to parse output. Returning None.\n"
     ]
    },
    {
     "name": "stdout",
     "output_type": "stream",
     "text": [
      "{'faithfulness': 0.3750, 'answer_correctness': 0.5081, 'context_recall': 0.9000}\n",
      "Chunk size: 1024\n",
      "Preparing Q&A dataset: ▯▯▯▯▯"
     ]
    },
    {
     "data": {
      "application/vnd.jupyter.widget-view+json": {
       "model_id": "c264ac65d4d04d22abe63c6e48eab646",
       "version_major": 2,
       "version_minor": 0
      },
      "text/plain": [
       "Evaluating:   0%|          | 0/15 [00:00<?, ?it/s]"
      ]
     },
     "metadata": {},
     "output_type": "display_data"
    },
    {
     "name": "stdout",
     "output_type": "stream",
     "text": [
      "{'faithfulness': 0.8000, 'answer_correctness': 0.5558, 'context_recall': 0.9000}\n",
      "Chunk size: 1152\n",
      "Preparing Q&A dataset: ▯▯▯▯▯"
     ]
    },
    {
     "data": {
      "application/vnd.jupyter.widget-view+json": {
       "model_id": "2b12195d4663457cab1435915932af1a",
       "version_major": 2,
       "version_minor": 0
      },
      "text/plain": [
       "Evaluating:   0%|          | 0/15 [00:00<?, ?it/s]"
      ]
     },
     "metadata": {},
     "output_type": "display_data"
    },
    {
     "name": "stdout",
     "output_type": "stream",
     "text": [
      "{'faithfulness': 0.4667, 'answer_correctness': 0.4424, 'context_recall': 0.9000}\n",
      "Chunk size: 1280\n",
      "Preparing Q&A dataset: ▯▯▯▯▯"
     ]
    },
    {
     "data": {
      "application/vnd.jupyter.widget-view+json": {
       "model_id": "0b5a595c9fa04c33b2a790cbc9692cbe",
       "version_major": 2,
       "version_minor": 0
      },
      "text/plain": [
       "Evaluating:   0%|          | 0/15 [00:00<?, ?it/s]"
      ]
     },
     "metadata": {},
     "output_type": "display_data"
    },
    {
     "name": "stdout",
     "output_type": "stream",
     "text": [
      "{'faithfulness': 0.3667, 'answer_correctness': 0.4981, 'context_recall': 0.8400}\n"
     ]
    }
   ],
   "source": [
    "test_results = []\n",
    "\n",
    "for chunk_size in chunk_sizes:\n",
    "    print(f\"Chunk size: {chunk_size}\")\n",
    "    retriever = vstore.as_retriever(search_kwargs={'k': 3, 'filter': {\"chunk_size\": chunk_size}})\n",
    "    rag_chain = create_retrieval_chain(retriever, qa_chain)\n",
    "\n",
    "    alice_ds = prepare_question_and_answer_dataset(test_questions_pass2[:5], test_ground_truth[:5], rag_chain)\n",
    "\n",
    "    result = evaluate(alice_ds, [faithfulness, answer_correctness, context_recall],\n",
    "                      llm=decoder_model,\n",
    "                      embeddings=embedding_model,\n",
    "                      run_config=run_config)\n",
    "    \n",
    "    test_results.append({'chunk_size': chunk_size,\n",
    "                         'answer_correctness': result['answer_correctness'],\n",
    "                         'faithfulness': result['faithfulness'],\n",
    "                         'context_recall': result['context_recall']})\n",
    "    print(result)"
   ]
  },
  {
   "cell_type": "markdown",
   "id": "79b55077-47b2-40fc-864b-1eb4a7931dd0",
   "metadata": {},
   "source": [
    "and then plot the results."
   ]
  },
  {
   "cell_type": "code",
   "execution_count": 30,
   "id": "097767a7-44ea-4100-b19a-fee105d62cc8",
   "metadata": {},
   "outputs": [
    {
     "data": {
      "image/png": "[encoded data removed]",
      "text/plain": [
       "<Figure size 1000x600 with 1 Axes>"
      ]
     },
     "metadata": {},
     "output_type": "display_data"
    }
   ],
   "source": [
    "import matplotlib.pyplot as plt\n",
    "\n",
    "# Organize data by chunk_size\n",
    "chunk_sizes = sorted(set(d['chunk_size'] for d in test_results))\n",
    "faithfulness = [d['faithfulness'] for d in test_results]\n",
    "answer_correctness = [d['answer_correctness'] for d in test_results]\n",
    "context_recall = [d['context_recall'] for d in test_results]\n",
    "\n",
    "# Create the plot\n",
    "plt.figure(figsize=(10, 6))\n",
    "\n",
    "plt.plot(chunk_sizes, faithfulness, marker='o', label='Faithfulness')\n",
    "plt.plot(chunk_sizes, answer_correctness, marker='o', label='Answer Correctness')\n",
    "plt.plot(chunk_sizes, context_recall, marker='o', label='Context Recall')\n",
    "\n",
    "plt.xlabel('Chunk Size')\n",
    "plt.ylabel('Values')\n",
    "plt.title('Comparison of Metrics for Different Chunk Sizes')\n",
    "plt.legend()\n",
    "plt.grid(True)\n",
    "plt.show()"
   ]
  },
  {
   "cell_type": "markdown",
   "id": "8754838e-9974-4fad-b62a-fd9dd0e04df9",
   "metadata": {},
   "source": [
    "I suspect the Q&A sample set is too small to provider any meaningful results. In order to avoid evaluate throwing an exception, I found it necessary to break down the evaluation step into at most 50 evaluations at a time."
   ]
  },
  {
   "cell_type": "code",
   "execution_count": null,
   "id": "0858915f-2728-4027-8a66-e818136876f4",
   "metadata": {},
   "outputs": [],
   "source": [
    "test_results = []\n",
    "\n",
    "for chunk_size in chunk_sizes:\n",
    "    print(f\"Chunk size: {chunk_size}\")\n",
    "\n",
    "    results_dict = {}\n",
    "    results_dict['chunk_size'] = chunk_size\n",
    "\n",
    "    retriever = vstore.as_retriever(search_kwargs={'k': 3, 'filter': {\"chunk_size\": chunk_size}})\n",
    "    rag_chain = create_retrieval_chain(retriever, qa_chain)\n",
    "\n",
    "    alice_ds = prepare_question_and_answer_dataset(test_questions_pass2[:49], test_ground_truth[:49], rag_chain)\n",
    "\n",
    "    result = evaluate(alice_ds, [faithfulness],\n",
    "                      llm=decoder_model,\n",
    "                      embeddings=embedding_model,\n",
    "                      run_config=run_config)\n",
    "    results_dict['faithfulness'] = result['faithfulness']\n",
    "    print(result)\n",
    "    \n",
    "    result = evaluate(alice_ds, [answer_correctness],\n",
    "                      llm=decoder_model,\n",
    "                      embeddings=embedding_model,\n",
    "                      run_config=run_config)\n",
    "    results_dict['answer_correctness'] = result['answer_correctness']\n",
    "    print(result)\n",
    "    \n",
    "    result = evaluate(alice_ds, [context_recall],\n",
    "                      llm=decoder_model,\n",
    "                      embeddings=embedding_model,\n",
    "                      run_config=run_config)\n",
    "    results_dict['context_recall'] = result['context_recall']\n",
    "    print(result)\n",
    "    \n",
    "    test_results.append(results_dict)\n",
    "print(test_results)"
   ]
  },
  {
   "cell_type": "code",
   "execution_count": null,
   "id": "1e434d15-95c0-4adb-ace4-ca16efa57c69",
   "metadata": {},
   "outputs": [],
   "source": [
    "import matplotlib.pyplot as plt\n",
    "\n",
    "# Organize data by chunk_size\n",
    "chunk_sizes = sorted(set(d['chunk_size'] for d in test_results))\n",
    "faithfulness = [d['faithfulness'] for d in test_results]\n",
    "answer_correctness = [d['answer_correctness'] for d in test_results]\n",
    "#answer_relevancy = [d['answer_relevancy'] for d in test_results]\n",
    "context_recall = [d['context_recall'] for d in test_results]\n",
    "\n",
    "# Create the plot\n",
    "plt.figure(figsize=(10, 6))\n",
    "\n",
    "plt.plot(chunk_sizes, faithfulness, marker='o', label='Faithfulness')\n",
    "plt.plot(chunk_sizes, answer_correctness, marker='o', label='Answer Correctness')\n",
    "# plt.plot(chunk_sizes, answer_relevancy, marker='o', label='Answer Relevancy')\n",
    "plt.plot(chunk_sizes, context_recall, marker='o', label='Context Recall')\n",
    "\n",
    "plt.xlabel('Chunk Size')\n",
    "plt.ylabel('Values')\n",
    "plt.title('Comparison of Metrics for Different Chunk Sizes')\n",
    "plt.legend()\n",
    "plt.grid(True)\n",
    "plt.show()"
   ]
  },
  {
   "cell_type": "markdown",
   "id": "d8d3bad0-b336-40ab-a18d-f4516efd266c",
   "metadata": {},
   "source": [
    "This seems better. However, there appears to be a peak in performance between 384 and 512 so let's perform more evaluations in this range to see if we can find an optimal value."
   ]
  },
  {
   "cell_type": "code",
   "execution_count": null,
   "id": "a7808c30-3548-48ed-8af7-5c4578003bba",
   "metadata": {},
   "outputs": [],
   "source": [
    "chunk_sizes = [x for x in range(416, 512, 32)] \n",
    "chunk_overlaps = [max(math.ceil(x * 0.2), 128) for x in chunk_sizes]\n",
    "\n",
    "text_splittings = []\n",
    "\n",
    "for chunk_size, chunk_overlap in zip(chunk_sizes, chunk_overlaps):\n",
    "    text_splitter = RecursiveCharacterTextSplitter(\n",
    "        chunk_size=chunk_size,\n",
    "        chunk_overlap=chunk_overlap,\n",
    "        length_function=len,\n",
    "        is_separator_regex=False\n",
    "    )\n",
    "    text_splittings.append(text_splitter.create_documents([alice_in_wonderland], metadatas=[{\"filename\": \"alice-modified.txt\",\n",
    "                                                                                             \"chunk_size\": chunk_size,\n",
    "                                                                                            \"chunk_overlap\": chunk_overlap}]))\n",
    "#\n",
    "# Remember: Add the new embeddings to the vector store or else there will be no context.\n",
    "# \n",
    "for text_splitting in text_splittings:\n",
    "    inserted_ids = vstore.add_documents(text_splitting)\n",
    "    print(f\"\\nInserted {len(inserted_ids)} documents.\")\n",
    "\n",
    "\n",
    "for chunk_size in chunk_sizes:\n",
    "    print(f\"Chunk size: {chunk_size}\")\n",
    "\n",
    "    results_dict = {}\n",
    "    results_dict['chunk_size'] = chunk_size\n",
    "\n",
    "    retriever = vstore.as_retriever(search_kwargs={'k': 3, 'filter': {\"chunk_size\": chunk_size}})\n",
    "    rag_chain = create_retrieval_chain(retriever, qa_chain)\n",
    "\n",
    "    alice_ds = prepare_question_and_answer_dataset(test_questions_pass2[:49], test_ground_truth[:49], rag_chain)\n",
    "\n",
    "    result = evaluate(alice_ds, [faithfulness],\n",
    "                      llm=decoder_model,\n",
    "                      embeddings=embedding_model,\n",
    "                      run_config=run_config)\n",
    "    results_dict['faithfulness'] = result['faithfulness']\n",
    "    print(result)\n",
    "    \n",
    "    result = evaluate(alice_ds, [answer_correctness],\n",
    "                      llm=decoder_model,\n",
    "                      embeddings=embedding_model,\n",
    "                      run_config=run_config)\n",
    "    results_dict['answer_correctness'] = result['answer_correctness']\n",
    "    print(result)\n",
    "        \n",
    "    result = evaluate(alice_ds, [context_recall],\n",
    "                      llm=decoder_model,\n",
    "                      embeddings=embedding_model,\n",
    "                      run_config=run_config)\n",
    "    results_dict['context_recall'] = result['context_recall']\n",
    "    print(result)\n",
    "    \n",
    "    test_results.append(results_dict)\n",
    "print(test_results)"
   ]
  },
  {
   "cell_type": "code",
   "execution_count": 32,
   "id": "969ab2b4-bd69-44f2-a4fe-7c654c37e424",
   "metadata": {},
   "outputs": [
    {
     "data": {
      "image/png": "[encoded data removed]",
      "text/plain": [
       "<Figure size 1000x600 with 1 Axes>"
      ]
     },
     "metadata": {},
     "output_type": "display_data"
    }
   ],
   "source": [
    "import matplotlib.pyplot as plt\n",
    "\n",
    "# Organize data by chunk_size\n",
    "chunk_sizes = sorted(set(d['chunk_size'] for d in test_results))\n",
    "faithfulness = [d['faithfulness'] for d in test_results]\n",
    "answer_correctness = [d['answer_correctness'] for d in test_results]\n",
    "context_recall = [d['context_recall'] for d in test_results]\n",
    "\n",
    "# Create the plot\n",
    "plt.figure(figsize=(10, 6))\n",
    "\n",
    "plt.plot(chunk_sizes, faithfulness, marker='o', label='Faithfulness')\n",
    "plt.plot(chunk_sizes, answer_correctness, marker='o', label='Answer Correctness')\n",
    "plt.plot(chunk_sizes, context_recall, marker='o', label='Context Recall')\n",
    "\n",
    "plt.xlabel('Chunk Size')\n",
    "plt.ylabel('Values')\n",
    "plt.title('Comparison of Metrics for Different Chunk Sizes')\n",
    "plt.legend()\n",
    "plt.grid(True)\n",
    "plt.show()"
   ]
  },
  {
   "cell_type": "markdown",
   "id": "24335227-99a2-4bd3-8c42-216e91a78495",
   "metadata": {},
   "source": [
    "## Conclusion\n",
    "- `Ragas` is a useful python module for quantitatively measuring performance across a number of common metrics. However, during the experimentation we performed in this workbook, there's still some bugs to be ironed out. For example, even when using the latest development MAIN branch, I regularly experienced exceptions when evaluating more than 50 Q&A against a ground truth set of Q&A. I also found the evaluate function particularly sensitive to calculating `answer_relevancy`.\n",
    "- `Ragas` also provides a helpful Q&A generator using a collection of source documents. Testing was limited to a single document, however the Q&A generated together were more challenging that I was initially expecting. Instead of generating questions such as \"what item does the white rabbit carry in his waist-coat pocket?\" it generated more challenging questions such as \"What is the reaction of the baby to the chaos caused by the cook?\".\n",
    "- There appears to be a sweet-spot for \"faithfulness\", \"answer correctness\" and \"context recall\" with a chuck_size or approximately 400 (characters). Performance then decreases until we reach a `chunk_size` of around 900 (characters) after which it steady rises again. This suggests that using a `chunk_size` between 400 and 1200 doesn't actually improve performance for this dataset and questions. It only increases resource consumption of the vector store, CPU and GPU (LLM). It would be useful to extend testing past a `chunk_size` of 1280 to see whether the earlier maximums are local maximums. If performance significantly exceeds the performance with a chunk_size of 400 the additional resources may be worth it.\n",
    "- Another dimension to explore is `k`, the number of vector embeddings to return per search. We used `k=3` during testing but it's plausible that increasing k to 5-7 with improve performance, especially with smaller `chunk_sizes`."
   ]
  },
  {
   "cell_type": "code",
   "execution_count": null,
   "id": "8a26017d-1133-4fca-8552-0af7c10b427b",
   "metadata": {},
   "outputs": [],
   "source": []
  }
 ],
 "metadata": {
  "kernelspec": {
   "display_name": "Python 3 (ipykernel)",
   "language": "python",
   "name": "python3"
  },
  "language_info": {
   "codemirror_mode": {
    "name": "ipython",
    "version": 3
   },
   "file_extension": ".py",
   "mimetype": "text/x-python",
   "name": "python",
   "nbconvert_exporter": "python",
   "pygments_lexer": "ipython3",
   "version": "3.10.12"
  }
 },
 "nbformat": 4,
 "nbformat_minor": 5
}
